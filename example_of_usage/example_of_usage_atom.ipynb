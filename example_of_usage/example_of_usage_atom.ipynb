{
 "cells": [
  {
   "cell_type": "code",
   "execution_count": 1,
   "id": "6ca04d73",
   "metadata": {},
   "outputs": [],
   "source": [
    "%load_ext autoreload\n",
    "%autoreload 2\n",
    "\n",
    "import logging \n",
    "import sys\n",
    "sys.path.append(\"..\")\n",
    "import pandas as pd\n",
    "\n",
    "logger = logging.getLogger(__name__)"
   ]
  },
  {
   "cell_type": "markdown",
   "id": "b7665970",
   "metadata": {},
   "source": [
    "# Importing the LLM models and the necessary modules"
   ]
  },
  {
   "cell_type": "code",
   "execution_count": null,
   "id": "cac9f143",
   "metadata": {},
   "outputs": [],
   "source": [
    "from langchain_openai import ChatOpenAI, OpenAIEmbeddings\n",
    "\n",
    "openai_api_key = \"###\"\n",
    "\n",
    "openai_llm_model = ChatOpenAI(\n",
    "    api_key = openai_api_key,\n",
    "    model=\"gpt-4.1-2025-04-14\",\n",
    "    temperature=0,\n",
    "    max_tokens=None,\n",
    "    timeout=None,\n",
    "    max_retries=2,\n",
    ")\n",
    "\n",
    "openai_embeddings_model = OpenAIEmbeddings(\n",
    "    api_key = openai_api_key ,\n",
    "    model=\"text-embedding-3-large\",\n",
    ")\n"
   ]
  },
  {
   "cell_type": "markdown",
   "id": "d379b6a3",
   "metadata": {},
   "source": [
    "# Loading the datasets"
   ]
  },
  {
   "cell_type": "code",
   "execution_count": 9,
   "id": "2ebc2214",
   "metadata": {},
   "outputs": [],
   "source": [
    "df_nyt = pd.read_pickle(\"../datasets/nyt_news/2020_nyt_COVID_last_version_ready.pkl\")"
   ]
  },
  {
   "cell_type": "markdown",
   "id": "d4196aee",
   "metadata": {},
   "source": [
    "# Atomic Facts"
   ]
  },
  {
   "cell_type": "markdown",
   "id": "fbaba738",
   "metadata": {},
   "source": [
    "The atomic facts are already ready from our dataset. We will use them directly."
   ]
  },
  {
   "cell_type": "code",
   "execution_count": 10,
   "id": "e6d89180",
   "metadata": {},
   "outputs": [],
   "source": [
    "import ast \n",
    "\n",
    "def to_dictionary(df): \n",
    "\n",
    "    if isinstance(df['factoids_g_truth'][0], str):\n",
    "        df[\"factoids_g_truth\"] = df[\"factoids_g_truth\"].apply(lambda x:ast.literal_eval(x))\n",
    "    grouped_df = df.groupby(\"date\")[\"factoids_g_truth\"].sum().reset_index()\n",
    "    return {\n",
    "        str(date): factoids for date, factoids in grouped_df.set_index(\"date\")[\"factoids_g_truth\"].to_dict().items()\n",
    "        }\n",
    "news = to_dictionary(df_nyt)"
   ]
  },
  {
   "cell_type": "code",
   "execution_count": 13,
   "id": "86deda71",
   "metadata": {},
   "outputs": [
    {
     "data": {
      "text/plain": [
       "{'2020-01-09 00:00:00': ['Chinese researchers identified a new virus behind an illness',\n",
       "  'The new virus infected dozens of people across Asia',\n",
       "  'The outbreak of the new virus raised fears in Asia',\n",
       "  'Asia experienced a deadly epidemic 17 years before January 09 2020.'],\n",
       " '2020-01-23 00:00:00': ['A mysterious respiratory virus was first found in Wuhan in December 2019.',\n",
       "  'Authorities limited travel in cities in China, including Wuhan, due to the spread of a mysterious respiratory virus.',\n",
       "  'The mysterious respiratory virus spread across China',\n",
       "  'The mysterious respiratory virus spread to at least 10 other countries.'],\n",
       " '2020-01-27 00:00:00': ['U.S. stock futures declined sharply on January 27, 2020.',\n",
       "  'The decline in U.S. stock futures on January 27,2020, was due to fears about the coronavirus outbreak.'],\n",
       " '2020-01-28 00:00:00': [\"President Trump's lawyers began their defense on the third day on January 28, 2020.\",\n",
       "  'The Republican-controlled Senate faced the question of whether to hear testimony from witnesses on January 28, 2020.',\n",
       "  'The Wuhan coronavirus was not widely recognized at the beginning of January 2020.',\n",
       "  'By January 24, 2020, the Wuhan coronavirus had become front-page news worldwide.',\n",
       "  'By January 24, 2020, there were over 800 confirmed cases of the Wuhan coronavirus in China.',\n",
       "  'By January 24, 2020, the Wuhan coronavirus had caused 26 deaths in China.',\n",
       "  'By January 27, 2020, the Wuhan coronavirus had caused at least 80 deaths in China.'],\n",
       " '2020-01-30 00:00:00': ['The World Health Organization declared a global health emergency on January 30 2020.',\n",
       "  'The coronavirus outbreak spread beyond China on January 30 2020.',\n",
       "  'The coronavirus outbreak emerged in China in December 2019.']}"
      ]
     },
     "execution_count": 13,
     "metadata": {},
     "output_type": "execute_result"
    }
   ],
   "source": [
    "dict(list(news.items())[:5])"
   ]
  },
  {
   "cell_type": "code",
   "execution_count": null,
   "id": "2dc5ee46",
   "metadata": {},
   "outputs": [],
   "source": [
    "from atom import Atom\n",
    "\n",
    "atom = Atom(llm_model=openai_llm_model, embeddings_model=openai_embeddings_model)\n",
    "\n",
    "kg = await atom.build_graph_from_different_obs_times(atomic_facts_with_obs_timestamps=dict(list(news.items())[:5]))"
   ]
  },
  {
   "cell_type": "code",
   "execution_count": 17,
   "id": "dc0268b5",
   "metadata": {},
   "outputs": [
    {
     "data": {
      "text/plain": [
       "[Relationship(name='raise_fears_in', startEntity=Entity(name='outbreak of the new virus', label='event', properties=EntityProperties(embeddings=array([-0.02740944,  0.00179138,  0.01016376, ...,  0.00646361,\n",
       "        -0.00670968, -0.01349134], shape=(3072,)))), endEntity=Entity(name='asia', label='location', properties=EntityProperties(embeddings=array([ 0.00331179,  0.02424994,  0.0002105 , ...,  0.0215823 ,\n",
       "        -0.00640898,  0.01664826], shape=(3072,)))), properties=RelationshipProperties(embeddings=array([-0.01960878, -0.01421717, -0.00448499, ...,  0.00588103,\n",
       "        -0.00034425,  0.02127761], shape=(3072,)), sources=['The outbreak of the new virus raised fears in Asia'], timestamps=[1578524400.0], t_start=[], t_end=[])),\n",
       " Relationship(name='experiences', startEntity=Entity(name='asia', label='location', properties=EntityProperties(embeddings=array([ 0.00331179,  0.02424994,  0.0002105 , ...,  0.0215823 ,\n",
       "        -0.00640898,  0.01664826], shape=(3072,)))), endEntity=Entity(name='deadly epidemic', label='event', properties=EntityProperties(embeddings=array([-0.02889504, -0.0091181 ,  0.00350157, ..., -0.00132544,\n",
       "         0.01171656, -0.00437517], shape=(3072,)))), properties=RelationshipProperties(embeddings=array([ 0.00288422,  0.00578283, -0.00927653, ..., -0.02119252,\n",
       "         0.00208998, -0.00588361], shape=(3072,)), sources=['Asia experienced a deadly epidemic 17 years before January 09 2020.'], timestamps=[1578524400.0], t_start=[1042066800.0], t_end=[1042066800.0])),\n",
       " Relationship(name='identify', startEntity=Entity(name='chinese researchers', label='researchers', properties=EntityProperties(embeddings=array([-0.0134254 ,  0.01038814, -0.01371537, ..., -0.02462582,\n",
       "         0.00809354, -0.00491875], shape=(3072,)))), endEntity=Entity(name='new virus', label='virus', properties=EntityProperties(embeddings=array([-0.04784481, -0.00682894,  0.00705644, ...,  0.00053202,\n",
       "        -0.0046745 , -0.00695803], shape=(3072,)))), properties=RelationshipProperties(embeddings=array([-0.01190259, -0.00098826, -0.02753251, ...,  0.02284437,\n",
       "        -0.01016317, -0.00574837], shape=(3072,)), sources=['Chinese researchers identified a new virus behind an illness'], timestamps=[1578524400.0], t_start=[1578524400.0], t_end=[])),\n",
       " Relationship(name='cause', startEntity=Entity(name='new virus', label='virus', properties=EntityProperties(embeddings=array([-0.04784481, -0.00682894,  0.00705644, ...,  0.00053202,\n",
       "        -0.0046745 , -0.00695803], shape=(3072,)))), endEntity=Entity(name='illness', label='illness', properties=EntityProperties(embeddings=array([ 0.01059648,  0.03697509,  0.0053266 , ..., -0.00169753,\n",
       "        -0.00461214,  0.00744076], shape=(3072,)))), properties=RelationshipProperties(embeddings=array([-0.0003188 , -0.01517551,  0.00533719, ...,  0.00193811,\n",
       "        -0.00064604, -0.02726018], shape=(3072,)), sources=['Chinese researchers identified a new virus behind an illness'], timestamps=[1578524400.0], t_start=[], t_end=[])),\n",
       " Relationship(name='infects', startEntity=Entity(name='new virus', label='virus', properties=EntityProperties(embeddings=array([-0.04787126, -0.00681876,  0.00703273, ...,  0.00050754,\n",
       "        -0.00468456, -0.00694442], shape=(3072,)))), endEntity=Entity(name='people', label='person', properties=EntityProperties(embeddings=array([ 2.59755421e-03,  5.21905413e-03,  2.89179012e-04, ...,\n",
       "        -7.36480113e-04,  1.88050859e-02,  6.72372989e-05], shape=(3072,)))), properties=RelationshipProperties(embeddings=array([-0.04858484,  0.06424915,  0.0067218 , ...,  0.01309339,\n",
       "         0.00606515, -0.00434987], shape=(3072,)), sources=['The new virus infected dozens of people across Asia'], timestamps=[1578524400.0], t_start=[], t_end=[])),\n",
       " Relationship(name='spreads_across', startEntity=Entity(name='new virus', label='virus', properties=EntityProperties(embeddings=array([-0.04787126, -0.00681876,  0.00703273, ...,  0.00050754,\n",
       "        -0.00468456, -0.00694442], shape=(3072,)))), endEntity=Entity(name='asia', label='location', properties=EntityProperties(embeddings=array([ 0.00331179,  0.02424994,  0.0002105 , ...,  0.0215823 ,\n",
       "        -0.00640898,  0.01664826], shape=(3072,)))), properties=RelationshipProperties(embeddings=array([-0.02292958,  0.03834652, -0.0122481 , ...,  0.01352097,\n",
       "        -0.01211458, -0.01312042], shape=(3072,)), sources=['The new virus infected dozens of people across Asia'], timestamps=[1578524400.0], t_start=[], t_end=[])),\n",
       " Relationship(name='spreads_across', startEntity=Entity(name='mysterious respiratory virus', label='virus', properties=EntityProperties(embeddings=array([-0.02170401,  0.0013119 , -0.00045162, ...,  0.00297305,\n",
       "         0.0120453 ,  0.00100963], shape=(3072,)))), endEntity=Entity(name='china', label='location', properties=EntityProperties(embeddings=array([-0.00911958,  0.02934509, -0.00314664, ...,  0.00478944,\n",
       "        -0.00596225,  0.01956393], shape=(3072,)))), properties=RelationshipProperties(embeddings=array([-0.0229432 ,  0.03837512, -0.01227256, ...,  0.01351851,\n",
       "        -0.01213017, -0.01310023], shape=(3072,)), sources=['The mysterious respiratory virus spread across China'], timestamps=[1579734000.0], t_start=[], t_end=[])),\n",
       " Relationship(name='is_located_in', startEntity=Entity(name='mysterious respiratory virus', label='virus', properties=EntityProperties(embeddings=array([-0.02170401,  0.0013119 , -0.00045162, ...,  0.00297305,\n",
       "         0.0120453 ,  0.00100963], shape=(3072,)))), endEntity=Entity(name='china', label='location', properties=EntityProperties(embeddings=array([-0.00911958,  0.02934509, -0.00314664, ...,  0.00478944,\n",
       "        -0.00596225,  0.01956393], shape=(3072,)))), properties=RelationshipProperties(embeddings=array([-0.00561981,  0.04995742, -0.02068928, ...,  0.02789746,\n",
       "        -0.03271905,  0.01783503], shape=(3072,)), sources=['The mysterious respiratory virus spread across China'], timestamps=[1579734000.0], t_start=[], t_end=[])),\n",
       " Relationship(name='spreads_across', startEntity=Entity(name='mysterious respiratory virus', label='virus', properties=EntityProperties(embeddings=array([-0.02170401,  0.0013119 , -0.00045162, ...,  0.00297305,\n",
       "         0.0120453 ,  0.00100963], shape=(3072,)))), endEntity=Entity(name='10 other countries', label='country', properties=EntityProperties(embeddings=array([-0.00468314, -0.00208235, -0.01355668, ...,  0.00964981,\n",
       "        -0.00532378,  0.00361003], shape=(3072,)))), properties=RelationshipProperties(embeddings=array([-0.03888049,  0.03880862, -0.00990877, ..., -0.00064906,\n",
       "        -0.02671686, -0.01157072], shape=(3072,)), sources=['The mysterious respiratory virus spread to at least 10 other countries.'], timestamps=[1579734000.0], t_start=[], t_end=[1579734000.0])),\n",
       " Relationship(name='is_found_in', startEntity=Entity(name='mysterious respiratory virus', label='virus', properties=EntityProperties(embeddings=array([-0.02170401,  0.0013119 , -0.00045162, ...,  0.00297305,\n",
       "         0.0120453 ,  0.00100963], shape=(3072,)))), endEntity=Entity(name='wuhan', label='location', properties=EntityProperties(embeddings=array([-0.00756922,  0.02081115,  0.01505716, ...,  0.01790302,\n",
       "        -0.00672401,  0.00291787], shape=(3072,)))), properties=RelationshipProperties(embeddings=array([-0.02606965,  0.02810083, -0.02204086, ...,  0.01399166,\n",
       "        -0.0472376 ,  0.01062594], shape=(3072,)), sources=['A mysterious respiratory virus was first found in Wuhan in December 2019.'], timestamps=[1579734000.0], t_start=[1575154800.0], t_end=[])),\n",
       " Relationship(name='is_associated_with', startEntity=Entity(name='mysterious respiratory virus', label='virus', properties=EntityProperties(embeddings=array([-0.02170401,  0.0013119 , -0.00045162, ...,  0.00297305,\n",
       "         0.0120453 ,  0.00100963], shape=(3072,)))), endEntity=Entity(name='discovery', label='event', properties=EntityProperties(embeddings=array([-0.00354718, -0.0089132 , -0.00601653, ..., -0.00240288,\n",
       "         0.00721297, -0.00209103], shape=(3072,)))), properties=RelationshipProperties(embeddings=array([-0.02313816,  0.01068805, -0.02728523, ...,  0.00202348,\n",
       "        -0.01623231,  0.00109739], shape=(3072,)), sources=['A mysterious respiratory virus was first found in Wuhan in December 2019.'], timestamps=[1579734000.0], t_start=[1575154800.0], t_end=[])),\n",
       " Relationship(name='occurs_in', startEntity=Entity(name='discovery', label='event', properties=EntityProperties(embeddings=array([-0.00354718, -0.0089132 , -0.00601653, ..., -0.00240288,\n",
       "         0.00721297, -0.00209103], shape=(3072,)))), endEntity=Entity(name='wuhan', label='location', properties=EntityProperties(embeddings=array([-0.00756922,  0.02081115,  0.01505716, ...,  0.01790302,\n",
       "        -0.00672401,  0.00291787], shape=(3072,)))), properties=RelationshipProperties(embeddings=array([-0.01881751,  0.00852493, -0.01780513, ...,  0.0140368 ,\n",
       "        -0.03567453,  0.00383059], shape=(3072,)), sources=['A mysterious respiratory virus was first found in Wuhan in December 2019.'], timestamps=[1579734000.0], t_start=[1575154800.0], t_end=[])),\n",
       " Relationship(name='limit_travel_in', startEntity=Entity(name='authorities', label='authority', properties=EntityProperties(embeddings=array([ 0.0025823 , -0.00205884, -0.01825136, ..., -0.00056135,\n",
       "         0.00118549, -0.01468971], shape=(3072,)))), endEntity=Entity(name='cities in china', label='city', properties=EntityProperties(embeddings=array([-0.02459312,  0.0324023 , -0.01276014, ...,  0.0259465 ,\n",
       "        -0.01379226, -0.00951447], shape=(3072,)))), properties=RelationshipProperties(embeddings=array([-0.03370132,  0.02884055, -0.01112007, ...,  0.00024903,\n",
       "        -0.01021614,  0.01015645], shape=(3072,)), sources=['Authorities limited travel in cities in China, including Wuhan, due to the spread of a mysterious respiratory virus.'], timestamps=[1579734000.0], t_start=[1579734000.0], t_end=[])),\n",
       " Relationship(name='limit_travel_in', startEntity=Entity(name='authorities', label='authority', properties=EntityProperties(embeddings=array([ 0.0025823 , -0.00205884, -0.01825136, ..., -0.00056135,\n",
       "         0.00118549, -0.01468971], shape=(3072,)))), endEntity=Entity(name='wuhan', label='location', properties=EntityProperties(embeddings=array([-0.00756922,  0.02081115,  0.01505716, ...,  0.01790302,\n",
       "        -0.00672401,  0.00291787], shape=(3072,)))), properties=RelationshipProperties(embeddings=array([-0.03370132,  0.02884055, -0.01112007, ...,  0.00024903,\n",
       "        -0.01021614,  0.01015645], shape=(3072,)), sources=['Authorities limited travel in cities in China, including Wuhan, due to the spread of a mysterious respiratory virus.'], timestamps=[1579734000.0], t_start=[1579734000.0], t_end=[])),\n",
       " Relationship(name='spreads_across', startEntity=Entity(name='mysterious respiratory virus', label='virus', properties=EntityProperties(embeddings=array([-0.02170401,  0.0013119 , -0.00045162, ...,  0.00297305,\n",
       "         0.0120453 ,  0.00100963], shape=(3072,)))), endEntity=Entity(name='wuhan', label='location', properties=EntityProperties(embeddings=array([-0.00756922,  0.02081115,  0.01505716, ...,  0.01790302,\n",
       "        -0.00672401,  0.00291787], shape=(3072,)))), properties=RelationshipProperties(embeddings=array([-0.02494368,  0.04363387, -0.02146562, ..., -0.0024285 ,\n",
       "        -0.01700386, -0.00597682], shape=(3072,)), sources=['Authorities limited travel in cities in China, including Wuhan, due to the spread of a mysterious respiratory virus.'], timestamps=[1579734000.0], t_start=[], t_end=[])),\n",
       " Relationship(name='spreads_across', startEntity=Entity(name='mysterious respiratory virus', label='virus', properties=EntityProperties(embeddings=array([-0.02170401,  0.0013119 , -0.00045162, ...,  0.00297305,\n",
       "         0.0120453 ,  0.00100963], shape=(3072,)))), endEntity=Entity(name='cities in china', label='city', properties=EntityProperties(embeddings=array([-0.02459312,  0.0324023 , -0.01276014, ...,  0.0259465 ,\n",
       "        -0.01379226, -0.00951447], shape=(3072,)))), properties=RelationshipProperties(embeddings=array([-0.02494368,  0.04363387, -0.02146562, ..., -0.0024285 ,\n",
       "        -0.01700386, -0.00597682], shape=(3072,)), sources=['Authorities limited travel in cities in China, including Wuhan, due to the spread of a mysterious respiratory virus.'], timestamps=[1579734000.0], t_start=[], t_end=[])),\n",
       " Relationship(name='experiences', startEntity=Entity(name='u.s. stock futures', label='stock_futures', properties=EntityProperties(embeddings=array([ 0.00037479, -0.0304047 , -0.00482234, ...,  0.01029135,\n",
       "        -0.00786007,  0.0187931 ], shape=(3072,)))), endEntity=Entity(name='decline', label='event', properties=EntityProperties(embeddings=array([-0.01500814, -0.00537453, -0.009037  , ..., -0.00372447,\n",
       "        -0.00142652,  0.01129377], shape=(3072,)))), properties=RelationshipProperties(embeddings=array([ 0.01999906, -0.00430881, -0.00654475, ..., -0.01633399,\n",
       "         0.00533022, -0.0045706 ], shape=(3072,)), sources=['U.S. stock futures declined sharply on January 27, 2020.', 'The decline in U.S. stock futures on January 27,2020, was due to fears about the coronavirus outbreak.'], timestamps=[1580079600.0], t_start=[1580079600.0, 1580079600.0], t_end=[])),\n",
       " Relationship(name='occur_on', startEntity=Entity(name='decline', label='event', properties=EntityProperties(embeddings=array([-0.01500814, -0.00537453, -0.009037  , ..., -0.00372447,\n",
       "        -0.00142652,  0.01129377], shape=(3072,)))), endEntity=Entity(name='2020 01 27', label='date', properties=EntityProperties(embeddings=array([-0.02119871, -0.01124284, -0.00248025, ..., -0.00639377,\n",
       "        -0.00400949,  0.01389115], shape=(3072,)))), properties=RelationshipProperties(embeddings=array([-0.03099463, -0.00693958, -0.0107538 , ..., -0.00760533,\n",
       "         0.00280403, -0.00919575], shape=(3072,)), sources=['U.S. stock futures declined sharply on January 27, 2020.'], timestamps=[1580079600.0], t_start=[1580079600.0], t_end=[])),\n",
       " Relationship(name='is_caused_by', startEntity=Entity(name='decline', label='event', properties=EntityProperties(embeddings=array([-0.01504151, -0.00535939, -0.0090278 , ..., -0.00373404,\n",
       "        -0.00143532,  0.01131965], shape=(3072,)))), endEntity=Entity(name='coronavirus outbreak', label='event', properties=EntityProperties(embeddings=array([-0.00266053,  0.0270936 , -0.00235659, ...,  0.00675931,\n",
       "        -0.00094282,  0.00284194], shape=(3072,)))), properties=RelationshipProperties(embeddings=array([-0.03940386, -0.03077062, -0.00799079, ..., -0.00400379,\n",
       "        -0.03839609, -0.01090913], shape=(3072,)), sources=['The decline in U.S. stock futures on January 27,2020, was due to fears about the coronavirus outbreak.'], timestamps=[1580079600.0], t_start=[1580079600.0], t_end=[])),\n",
       " Relationship(name='cause', startEntity=Entity(name='coronavirus outbreak', label='event', properties=EntityProperties(embeddings=array([-0.00266053,  0.0270936 , -0.00235659, ...,  0.00675931,\n",
       "        -0.00094282,  0.00284194], shape=(3072,)))), endEntity=Entity(name='fears', label='emotion', properties=EntityProperties(embeddings=array([-0.02530551, -0.00446829,  0.00210766, ..., -0.00648853,\n",
       "         0.00609291,  0.01358189], shape=(3072,)))), properties=RelationshipProperties(embeddings=array([-0.0003188 , -0.01517551,  0.00533719, ...,  0.00193811,\n",
       "        -0.00064604, -0.02726018], shape=(3072,)), sources=['The decline in U.S. stock futures on January 27,2020, was due to fears about the coronavirus outbreak.'], timestamps=[1580079600.0], t_start=[], t_end=[])),\n",
       " Relationship(name='lead_to', startEntity=Entity(name='fears', label='emotion', properties=EntityProperties(embeddings=array([-0.02530551, -0.00446829,  0.00210766, ..., -0.00648853,\n",
       "         0.00609291,  0.01358189], shape=(3072,)))), endEntity=Entity(name='decline', label='event', properties=EntityProperties(embeddings=array([-0.01504151, -0.00535939, -0.0090278 , ..., -0.00373404,\n",
       "        -0.00143532,  0.01131965], shape=(3072,)))), properties=RelationshipProperties(embeddings=array([-0.01888645,  0.01872744, -0.00188047, ..., -0.00462444,\n",
       "        -0.02745514, -0.00897946], shape=(3072,)), sources=['The decline in U.S. stock futures on January 27,2020, was due to fears about the coronavirus outbreak.'], timestamps=[1580079600.0], t_start=[1580079600.0], t_end=[])),\n",
       " Relationship(name='are_confirmed_in', startEntity=Entity(name='wuhan coronavirus cases', label='event', properties=EntityProperties(embeddings=array([-0.0149648 ,  0.03422189, -0.00325071, ...,  0.02402666,\n",
       "         0.00417189,  0.00465702], shape=(3072,)))), endEntity=Entity(name='china', label='location', properties=EntityProperties(embeddings=array([-0.00911491,  0.02936018, -0.00312356, ...,  0.00476145,\n",
       "        -0.00595171,  0.01955345], shape=(3072,)))), properties=RelationshipProperties(embeddings=array([-0.01983403,  0.02170013, -0.02521908, ...,  0.00881957,\n",
       "        -0.03302117,  0.01473334], shape=(3072,)), sources=['By January 24, 2020, there were over 800 confirmed cases of the Wuhan coronavirus in China.'], timestamps=[1580166000.0], t_start=[], t_end=[1579820400.0])),\n",
       " Relationship(name='reach_count', startEntity=Entity(name='wuhan coronavirus cases', label='event', properties=EntityProperties(embeddings=array([-0.0149648 ,  0.03422189, -0.00325071, ...,  0.02402666,\n",
       "         0.00417189,  0.00465702], shape=(3072,)))), endEntity=Entity(name='over 800 confirmed cases', label='event', properties=EntityProperties(embeddings=array([-0.01011789,  0.0328934 ,  0.00155816, ..., -0.0023001 ,\n",
       "        -0.01054244, -0.00411793], shape=(3072,)))), properties=RelationshipProperties(embeddings=array([ 0.00296611, -0.00369401, -0.0147928 , ...,  0.00409676,\n",
       "        -0.03728826,  0.00454776], shape=(3072,)), sources=['By January 24, 2020, there were over 800 confirmed cases of the Wuhan coronavirus in China.'], timestamps=[1580166000.0], t_start=[1579820400.0], t_end=[])),\n",
       " Relationship(name='causes_deaths_in', startEntity=Entity(name='wuhan coronavirus cases', label='event', properties=EntityProperties(embeddings=array([-0.0149648 ,  0.03422189, -0.00325071, ...,  0.02402666,\n",
       "         0.00417189,  0.00465702], shape=(3072,)))), endEntity=Entity(name='china', label='location', properties=EntityProperties(embeddings=array([-0.00911958,  0.02934509, -0.00314664, ...,  0.00478944,\n",
       "        -0.00596225,  0.01956393], shape=(3072,)))), properties=RelationshipProperties(embeddings=array([-0.02422069,  0.02606107, -0.00404226, ..., -0.01569251,\n",
       "        -0.01109156, -0.00394572], shape=(3072,)), sources=['By January 24, 2020, the Wuhan coronavirus had caused 26 deaths in China.'], timestamps=[1580166000.0], t_start=[], t_end=[1579820400.0])),\n",
       " Relationship(name='causes', startEntity=Entity(name='wuhan coronavirus cases', label='event', properties=EntityProperties(embeddings=array([-0.0149648 ,  0.03422189, -0.00325071, ...,  0.02402666,\n",
       "         0.00417189,  0.00465702], shape=(3072,)))), endEntity=Entity(name='26 deaths', label='event', properties=EntityProperties(embeddings=array([-0.01023761,  0.01102403,  0.00448271, ..., -0.00722328,\n",
       "        -0.004055  , -0.01295377], shape=(3072,)))), properties=RelationshipProperties(embeddings=array([-0.01008128,  0.00810386,  0.00766689, ...,  0.00234156,\n",
       "         0.01360354, -0.02849594], shape=(3072,)), sources=['By January 24, 2020, the Wuhan coronavirus had caused 26 deaths in China.'], timestamps=[1580166000.0], t_start=[], t_end=[1579820400.0])),\n",
       " Relationship(name='occurs_in', startEntity=Entity(name='26 deaths', label='event', properties=EntityProperties(embeddings=array([-0.01023761,  0.01102403,  0.00448271, ..., -0.00722328,\n",
       "        -0.004055  , -0.01295377], shape=(3072,)))), endEntity=Entity(name='china', label='location', properties=EntityProperties(embeddings=array([-0.00911958,  0.02934509, -0.00314664, ...,  0.00478944,\n",
       "        -0.00596225,  0.01956393], shape=(3072,)))), properties=RelationshipProperties(embeddings=array([-0.01201458,  0.0194713 , -0.01658116, ...,  0.00206391,\n",
       "        -0.02067625,  0.00417367], shape=(3072,)), sources=['By January 24, 2020, the Wuhan coronavirus had caused 26 deaths in China.'], timestamps=[1580166000.0], t_start=[], t_end=[1579820400.0])),\n",
       " Relationship(name='causes_deaths_in', startEntity=Entity(name='wuhan coronavirus cases', label='event', properties=EntityProperties(embeddings=array([-0.0149648 ,  0.03422189, -0.00325071, ...,  0.02402666,\n",
       "         0.00417189,  0.00465702], shape=(3072,)))), endEntity=Entity(name='china', label='location', properties=EntityProperties(embeddings=array([-0.00914897,  0.02933437, -0.00315906, ...,  0.0047774 ,\n",
       "        -0.00597055,  0.0195687 ], shape=(3072,)))), properties=RelationshipProperties(embeddings=array([-0.02426836,  0.02609219, -0.00405842, ..., -0.01568324,\n",
       "        -0.01111547, -0.00394957], shape=(3072,)), sources=['By January 27, 2020, the Wuhan coronavirus had caused at least 80 deaths in China.'], timestamps=[1580166000.0], t_start=[], t_end=[1580079600.0])),\n",
       " Relationship(name='causes', startEntity=Entity(name='wuhan coronavirus cases', label='event', properties=EntityProperties(embeddings=array([-0.0149648 ,  0.03422189, -0.00325071, ...,  0.02402666,\n",
       "         0.00417189,  0.00465702], shape=(3072,)))), endEntity=Entity(name='deaths', label='event', properties=EntityProperties(embeddings=array([ 0.00182733,  0.03703457, -0.00169337, ..., -0.01569001,\n",
       "         0.00588716, -0.00415438], shape=(3072,)))), properties=RelationshipProperties(embeddings=array([-0.01008128,  0.00810386,  0.00766689, ...,  0.00234156,\n",
       "         0.01360354, -0.02849594], shape=(3072,)), sources=['By January 27, 2020, the Wuhan coronavirus had caused at least 80 deaths in China.'], timestamps=[1580166000.0], t_start=[], t_end=[1580079600.0])),\n",
       " Relationship(name='occurs_in', startEntity=Entity(name='deaths', label='event', properties=EntityProperties(embeddings=array([ 0.00182733,  0.03703457, -0.00169337, ..., -0.01569001,\n",
       "         0.00588716, -0.00415438], shape=(3072,)))), endEntity=Entity(name='china', label='location', properties=EntityProperties(embeddings=array([-0.00914897,  0.02933437, -0.00315906, ...,  0.0047774 ,\n",
       "        -0.00597055,  0.0195687 ], shape=(3072,)))), properties=RelationshipProperties(embeddings=array([-0.01201458,  0.0194713 , -0.01658116, ...,  0.00206391,\n",
       "        -0.02067625,  0.00417367], shape=(3072,)), sources=['By January 27, 2020, the Wuhan coronavirus had caused at least 80 deaths in China.'], timestamps=[1580166000.0], t_start=[], t_end=[1580079600.0])),\n",
       " Relationship(name='is_caused_by', startEntity=Entity(name='deaths', label='event', properties=EntityProperties(embeddings=array([ 0.00182733,  0.03703457, -0.00169337, ..., -0.01569001,\n",
       "         0.00588716, -0.00415438], shape=(3072,)))), endEntity=Entity(name='wuhan coronavirus cases', label='event', properties=EntityProperties(embeddings=array([-0.0149648 ,  0.03422189, -0.00325071, ...,  0.02402666,\n",
       "         0.00417189,  0.00465702], shape=(3072,)))), properties=RelationshipProperties(embeddings=array([-0.03423452, -0.01256995, -0.0079578 , ...,  0.00568414,\n",
       "        -0.03411349,  0.00133783], shape=(3072,)), sources=['By January 27, 2020, the Wuhan coronavirus had caused at least 80 deaths in China.'], timestamps=[1580166000.0], t_start=[], t_end=[1580079600.0])),\n",
       " Relationship(name='is_not_widely_recognized', startEntity=Entity(name='wuhan coronavirus cases', label='event', properties=EntityProperties(embeddings=array([-0.0149648 ,  0.03422189, -0.00325071, ...,  0.02402666,\n",
       "         0.00417189,  0.00465702], shape=(3072,)))), endEntity=Entity(name='recognition', label='recognition', properties=EntityProperties(embeddings=array([-0.00694769, -0.00633913, -0.01214347, ...,  0.00400172,\n",
       "         0.01116609,  0.01454082], shape=(3072,)))), properties=RelationshipProperties(embeddings=array([ 0.0131793 , -0.01537432, -0.02765732, ...,  0.01562126,\n",
       "        -0.03643742,  0.01508165], shape=(3072,)), sources=['The Wuhan coronavirus was not widely recognized at the beginning of January 2020.'], timestamps=[1580166000.0], t_start=[1577833200.0], t_end=[1580166000.0])),\n",
       " Relationship(name='becomes', startEntity=Entity(name='wuhan coronavirus cases', label='event', properties=EntityProperties(embeddings=array([-0.0149648 ,  0.03422189, -0.00325071, ...,  0.02402666,\n",
       "         0.00417189,  0.00465702], shape=(3072,)))), endEntity=Entity(name='front page news', label='news', properties=EntityProperties(embeddings=array([ 3.07148796e-02, -1.54029080e-02, -9.69179170e-03, ...,\n",
       "        -7.77161331e-05, -3.30861742e-03, -3.84153239e-04], shape=(3072,)))), properties=RelationshipProperties(embeddings=array([-0.00704233,  0.02267596, -0.00335006, ..., -0.00387463,\n",
       "         0.00303937,  0.00108798], shape=(3072,)), sources=['By January 24, 2020, the Wuhan coronavirus had become front-page news worldwide.'], timestamps=[1580166000.0], t_start=[1579820400.0], t_end=[])),\n",
       " Relationship(name='is_reported_in', startEntity=Entity(name='wuhan coronavirus cases', label='event', properties=EntityProperties(embeddings=array([-0.0149648 ,  0.03422189, -0.00325071, ...,  0.02402666,\n",
       "         0.00417189,  0.00465702], shape=(3072,)))), endEntity=Entity(name='worldwide', label='location', properties=EntityProperties(embeddings=array([ 0.01434436,  0.03074591, -0.01412424, ...,  0.01614697,\n",
       "         0.00349674,  0.01938464], shape=(3072,)))), properties=RelationshipProperties(embeddings=array([-0.01294825,  0.00857167, -0.03124799, ...,  0.00747436,\n",
       "        -0.02471478,  0.01760759], shape=(3072,)), sources=['By January 24, 2020, the Wuhan coronavirus had become front-page news worldwide.'], timestamps=[1580166000.0], t_start=[1579820400.0], t_end=[])),\n",
       " Relationship(name='begin', startEntity=Entity(name=\"president trump's lawyers\", label='lawyer', properties=EntityProperties(embeddings=array([ 0.01192422, -0.02370619, -0.01496239, ...,  0.01280054,\n",
       "         0.02666343, -0.00820246], shape=(3072,)))), endEntity=Entity(name='defense', label='event', properties=EntityProperties(embeddings=array([ 0.00757407,  0.01051966, -0.00793652, ...,  0.00884141,\n",
       "        -0.0052746 , -0.01334638], shape=(3072,)))), properties=RelationshipProperties(embeddings=array([-0.00441805, -0.01252919, -0.00194116, ..., -0.01433471,\n",
       "        -0.0056354 ,  0.00434054], shape=(3072,)), sources=[\"President Trump's lawyers began their defense on the third day on January 28, 2020.\"], timestamps=[1580166000.0], t_start=[1580166000.0], t_end=[])),\n",
       " Relationship(name='occur_on', startEntity=Entity(name='defense', label='event', properties=EntityProperties(embeddings=array([ 0.00757407,  0.01051966, -0.00793652, ...,  0.00884141,\n",
       "        -0.0052746 , -0.01334638], shape=(3072,)))), endEntity=Entity(name='third day', label='event', properties=EntityProperties(embeddings=array([ 0.01450741, -0.02269578,  0.00426297, ...,  0.01332073,\n",
       "         0.02365061, -0.00357816], shape=(3072,)))), properties=RelationshipProperties(embeddings=array([-0.03099463, -0.00693958, -0.0107538 , ..., -0.00760533,\n",
       "         0.00280403, -0.00919575], shape=(3072,)), sources=[\"President Trump's lawyers began their defense on the third day on January 28, 2020.\"], timestamps=[1580166000.0], t_start=[1580166000.0], t_end=[])),\n",
       " Relationship(name='is_controlled_by', startEntity=Entity(name='senate', label='senate', properties=EntityProperties(embeddings=array([ 0.02675364, -0.01304395, -0.00780702, ...,  0.01327619,\n",
       "         0.00343516, -0.00551175], shape=(3072,)))), endEntity=Entity(name='republican', label='republican', properties=EntityProperties(embeddings=array([-0.00913433, -0.02249797, -0.01863436, ...,  0.00205105,\n",
       "         0.00620483,  0.0293507 ], shape=(3072,)))), properties=RelationshipProperties(embeddings=array([-0.03476594,  0.01396797, -0.01956603, ...,  0.01199325,\n",
       "        -0.02315314,  0.00831104], shape=(3072,)), sources=['The Republican-controlled Senate faced the question of whether to hear testimony from witnesses on January 28, 2020.'], timestamps=[1580166000.0], t_start=[], t_end=[])),\n",
       " Relationship(name='considers_hearing', startEntity=Entity(name='senate', label='senate', properties=EntityProperties(embeddings=array([ 0.02675364, -0.01304395, -0.00780702, ...,  0.01327619,\n",
       "         0.00343516, -0.00551175], shape=(3072,)))), endEntity=Entity(name='witness testimony', label='witness_testimony', properties=EntityProperties(embeddings=array([ 0.05677802, -0.01897446, -0.01244485, ...,  0.00987993,\n",
       "         0.00355288, -0.00187053], shape=(3072,)))), properties=RelationshipProperties(embeddings=array([-0.01267341,  0.02119916, -0.02859282, ...,  0.01135097,\n",
       "         0.00724839, -0.03209929], shape=(3072,)), sources=['The Republican-controlled Senate faced the question of whether to hear testimony from witnesses on January 28, 2020.'], timestamps=[1580166000.0], t_start=[1580166000.0], t_end=[])),\n",
       " Relationship(name='considers_hearing', startEntity=Entity(name='senate', label='senate', properties=EntityProperties(embeddings=array([ 0.02675364, -0.01304395, -0.00780702, ...,  0.01327619,\n",
       "         0.00343516, -0.00551175], shape=(3072,)))), endEntity=Entity(name='witness', label='witness', properties=EntityProperties(embeddings=array([ 0.04230138, -0.02325349, -0.00655374, ...,  0.01468457,\n",
       "         0.00365581, -0.01077686], shape=(3072,)))), properties=RelationshipProperties(embeddings=array([-1.90011095e-02,  2.59675086e-02, -2.23934427e-02, ...,\n",
       "         1.34077966e-02, -9.84382641e-05, -2.03842930e-02], shape=(3072,)), sources=['The Republican-controlled Senate faced the question of whether to hear testimony from witnesses on January 28, 2020.'], timestamps=[1580166000.0], t_start=[1580166000.0], t_end=[])),\n",
       " Relationship(name='declares', startEntity=Entity(name='world health organization', label='world_health_organization', properties=EntityProperties(embeddings=array([-0.00282461,  0.01810105, -0.008272  , ..., -0.01287238,\n",
       "         0.01941088,  0.00102002], shape=(3072,)))), endEntity=Entity(name='global health emergency', label='global_health_emergency', properties=EntityProperties(embeddings=array([-0.03797776,  0.03576122, -0.00498382, ..., -0.01190219,\n",
       "         0.01276416, -0.00109194], shape=(3072,)))), properties=RelationshipProperties(embeddings=array([-0.00920942,  0.01472764, -0.01275651, ...,  0.0111387 ,\n",
       "         0.01231022,  0.00545313], shape=(3072,)), sources=['The World Health Organization declared a global health emergency on January 30 2020.'], timestamps=[1580338800.0], t_start=[1580338800.0], t_end=[])),\n",
       " Relationship(name='originates_in', startEntity=Entity(name='coronavirus outbreak', label='event', properties=EntityProperties(embeddings=array([-0.00266053,  0.0270936 , -0.00235659, ...,  0.00675931,\n",
       "        -0.00094282,  0.00284194], shape=(3072,)))), endEntity=Entity(name='china', label='location', properties=EntityProperties(embeddings=array([-0.00911958,  0.02934509, -0.00314664, ...,  0.00478944,\n",
       "        -0.00596225,  0.01956393], shape=(3072,)))), properties=RelationshipProperties(embeddings=array([-0.00867558,  0.00319935, -0.01198742, ...,  0.00322409,\n",
       "         0.00439629, -0.00186516], shape=(3072,)), sources=['The coronavirus outbreak spread beyond China on January 30 2020.'], timestamps=[1580338800.0], t_start=[], t_end=[])),\n",
       " Relationship(name='spreads_across', startEntity=Entity(name='coronavirus outbreak', label='event', properties=EntityProperties(embeddings=array([-0.00266053,  0.0270936 , -0.00235659, ...,  0.00675931,\n",
       "        -0.00094282,  0.00284194], shape=(3072,)))), endEntity=Entity(name='china', label='location', properties=EntityProperties(embeddings=array([-0.00911958,  0.02934509, -0.00314664, ...,  0.00478944,\n",
       "        -0.00596225,  0.01956393], shape=(3072,)))), properties=RelationshipProperties(embeddings=array([-0.03228079,  0.03060512, -0.02099407, ..., -0.00114119,\n",
       "        -0.01985769, -0.02107111], shape=(3072,)), sources=['The coronavirus outbreak spread beyond China on January 30 2020.'], timestamps=[1580338800.0], t_start=[1580338800.0], t_end=[])),\n",
       " Relationship(name='emerges_in', startEntity=Entity(name='coronavirus outbreak', label='event', properties=EntityProperties(embeddings=array([-0.00266053,  0.0270936 , -0.00235659, ...,  0.00675931,\n",
       "        -0.00094282,  0.00284194], shape=(3072,)))), endEntity=Entity(name='china', label='location', properties=EntityProperties(embeddings=array([-0.00911958,  0.02934509, -0.00314664, ...,  0.00478944,\n",
       "        -0.00596225,  0.01956393], shape=(3072,)))), properties=RelationshipProperties(embeddings=array([-0.03558667,  0.04208575, -0.01710432, ..., -0.00943671,\n",
       "        -0.00878959,  0.00618251], shape=(3072,)), sources=['The coronavirus outbreak emerged in China in December 2019.'], timestamps=[1580338800.0], t_start=[1576278000.0], t_end=[])),\n",
       " Relationship(name='has_status', startEntity=Entity(name='coronavirus outbreak', label='event', properties=EntityProperties(embeddings=array([-0.00266053,  0.0270936 , -0.00235659, ...,  0.00675931,\n",
       "        -0.00094282,  0.00284194], shape=(3072,)))), endEntity=Entity(name='emergence', label='event', properties=EntityProperties(embeddings=array([-2.66939666e-02, -3.53368204e-03, -2.26448448e-03, ...,\n",
       "        -8.97675939e-04, -1.43144086e-03, -3.16649675e-09], shape=(3072,)))), properties=RelationshipProperties(embeddings=array([-0.02255108,  0.00627805, -0.01378676, ...,  0.011525  ,\n",
       "        -0.02246793,  0.0210377 ], shape=(3072,)), sources=['The coronavirus outbreak emerged in China in December 2019.'], timestamps=[1580338800.0], t_start=[1576278000.0], t_end=[]))]"
      ]
     },
     "execution_count": 17,
     "metadata": {},
     "output_type": "execute_result"
    }
   ],
   "source": [
    "kg.relationships"
   ]
  },
  {
   "cell_type": "markdown",
   "id": "291dfe40",
   "metadata": {},
   "source": [
    "# Draw the DTKG in neo4j"
   ]
  },
  {
   "cell_type": "code",
   "execution_count": null,
   "id": "510832ea",
   "metadata": {},
   "outputs": [],
   "source": [
    "from atom.graph_integration import Neo4jStorage\n",
    "\n",
    "\n",
    "URI = \"bolt://localhost:7687\"\n",
    "USERNAME = \"neo4j\"\n",
    "PASSWORD = \"###\"\n",
    "\n",
    "Neo4jStorage(uri=URI, username=USERNAME, password=PASSWORD).visualize_graph(knowledge_graph=kg)"
   ]
  }
 ],
 "metadata": {
  "kernelspec": {
   "display_name": "venv-itext2kg-update",
   "language": "python",
   "name": "python3"
  },
  "language_info": {
   "codemirror_mode": {
    "name": "ipython",
    "version": 3
   },
   "file_extension": ".py",
   "mimetype": "text/x-python",
   "name": "python",
   "nbconvert_exporter": "python",
   "pygments_lexer": "ipython3",
   "version": "3.11.1"
  }
 },
 "nbformat": 4,
 "nbformat_minor": 5
}
